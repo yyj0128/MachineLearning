{
  "nbformat": 4,
  "nbformat_minor": 0,
  "metadata": {
    "colab": {
      "name": "Chapter7.ipynb",
      "provenance": [],
      "collapsed_sections": [],
      "authorship_tag": "ABX9TyOY+lNaygeZ/Z5vZd1nDl9L",
      "include_colab_link": true
    },
    "kernelspec": {
      "name": "python3",
      "display_name": "Python 3"
    },
    "language_info": {
      "name": "python"
    }
  },
  "cells": [
    {
      "cell_type": "markdown",
      "metadata": {
        "id": "view-in-github",
        "colab_type": "text"
      },
      "source": [
        "<a href=\"https://colab.research.google.com/github/yyj0128/MachineLearning/blob/main/Chapter7.ipynb\" target=\"_parent\"><img src=\"https://colab.research.google.com/assets/colab-badge.svg\" alt=\"Open In Colab\"/></a>"
      ]
    },
    {
      "cell_type": "markdown",
      "source": [
        "## **ch7. 모형평가**\n",
        "\n",
        "\n",
        "\n",
        "## 7.3 파이프라인"
      ],
      "metadata": {
        "id": "Sb2iS62PQeaN"
      }
    },
    {
      "cell_type": "code",
      "execution_count": 8,
      "metadata": {
        "colab": {
          "base_uri": "https://localhost:8080/"
        },
        "id": "Zj9XR4THPzNj",
        "outputId": "faa967b8-84d5-4d08-d184-464dc5a9be2b"
      },
      "outputs": [
        {
          "output_type": "stream",
          "name": "stderr",
          "text": [
            "/usr/local/lib/python3.7/dist-packages/sklearn/utils/deprecation.py:87: FutureWarning: Function load_boston is deprecated; `load_boston` is deprecated in 1.0 and will be removed in 1.2.\n",
            "\n",
            "    The Boston housing prices dataset has an ethical problem. You can refer to\n",
            "    the documentation of this function for further details.\n",
            "\n",
            "    The scikit-learn maintainers therefore strongly discourage the use of this\n",
            "    dataset unless the purpose of the code is to study and educate about\n",
            "    ethical issues in data science and machine learning.\n",
            "\n",
            "    In this special case, you can fetch the dataset from the original\n",
            "    source::\n",
            "\n",
            "        import pandas as pd\n",
            "        import numpy as np\n",
            "\n",
            "\n",
            "        data_url = \"http://lib.stat.cmu.edu/datasets/boston\"\n",
            "        raw_df = pd.read_csv(data_url, sep=\"\\s+\", skiprows=22, header=None)\n",
            "        data = np.hstack([raw_df.values[::2, :], raw_df.values[1::2, :2]])\n",
            "        target = raw_df.values[1::2, 2]\n",
            "\n",
            "    Alternative datasets include the California housing dataset (i.e.\n",
            "    :func:`~sklearn.datasets.fetch_california_housing`) and the Ames housing\n",
            "    dataset. You can load the datasets as follows::\n",
            "\n",
            "        from sklearn.datasets import fetch_california_housing\n",
            "        housing = fetch_california_housing()\n",
            "\n",
            "    for the California housing dataset and::\n",
            "\n",
            "        from sklearn.datasets import fetch_openml\n",
            "        housing = fetch_openml(name=\"house_prices\", as_frame=True)\n",
            "\n",
            "    for the Ames housing dataset.\n",
            "    \n",
            "  warnings.warn(msg, category=FutureWarning)\n"
          ]
        },
        {
          "output_type": "execute_result",
          "data": {
            "text/plain": [
              "29.515137790197567"
            ]
          },
          "metadata": {},
          "execution_count": 8
        }
      ],
      "source": [
        "#### 파이프라인 사용 전 ###\n",
        "\n",
        "from sklearn import datasets\n",
        "from sklearn.pipeline import Pipeline\n",
        "from sklearn.preprocessing import StandardScaler\n",
        "from sklearn.linear_model import LinearRegression\n",
        "from sklearn.model_selection import train_test_split\n",
        "from sklearn.metrics import mean_squared_error\n",
        "\n",
        "raw_boston = datasets.load_boston()\n",
        "\n",
        "\n",
        "X = raw_boston.data\n",
        "y = raw_boston.target\n",
        "\n",
        "# 훈련/테스트 데이터 분할\n",
        "X_tn, X_te, y_tn, y_te = train_test_split(X, y, random_state=7)\n",
        "\n",
        "# 표준화 스케일링\n",
        "std_scale = StandardScaler()\n",
        "X_tn_std = std_scale.fit_transform(X_tn)\n",
        "X_te_std = std_scale.transform(X_te)\n",
        "\n",
        "# 모델 생성\n",
        "lr = LinearRegression()\n",
        "lr.fit(X_tn_std, y_tn)\n",
        "\n",
        "# 예측\n",
        "pred_lr = lr.predict(X_te_std)\n",
        "\n",
        "# 평가\n",
        "mean_squared_error(y_te, pred_lr)"
      ]
    },
    {
      "cell_type": "code",
      "source": [
        "### 파이프라인 사용 후 ###\n",
        "\n",
        "# 훈련/테스트 분할\n",
        "X_tn, X_te, y_tn, y_te = train_test_split(X, y, random_state=7)\n",
        "\n",
        "# 파이프라인\n",
        "lr_pipeline = Pipeline([\n",
        "                            ('scaler', StandardScaler()),\n",
        "                            ('linear_regression', LinearRegression())\n",
        "])\n",
        "\n",
        "# 모델 학습\n",
        "lr_pipeline.fit(X_tn, y_tn)\n",
        "\n",
        "# 예측\n",
        "pred_lr2 = lr_pipeline.predict(X_te)\n",
        "\n",
        "# 평가\n",
        "mean_squared_error(y_te, pred_lr2)"
      ],
      "metadata": {
        "colab": {
          "base_uri": "https://localhost:8080/"
        },
        "id": "3JGQWyd4SGdc",
        "outputId": "8534d95a-2b3e-46bf-9649-cc14cccce753"
      },
      "execution_count": 9,
      "outputs": [
        {
          "output_type": "execute_result",
          "data": {
            "text/plain": [
              "29.515137790197567"
            ]
          },
          "metadata": {},
          "execution_count": 9
        }
      ]
    },
    {
      "cell_type": "code",
      "source": [
        ""
      ],
      "metadata": {
        "id": "cPYkrLMGUl55"
      },
      "execution_count": null,
      "outputs": []
    },
    {
      "cell_type": "markdown",
      "source": [
        "## 7.4 그리드서치\n"
      ],
      "metadata": {
        "id": "r6XlvZtzUmOD"
      }
    },
    {
      "cell_type": "code",
      "source": [
        "from sklearn import datasets\n",
        "from sklearn.preprocessing import StandardScaler\n",
        "from sklearn.neighbors import KNeighborsClassifier\n",
        "from sklearn.model_selection import train_test_split\n",
        "\n",
        "from sklearn.metrics import accuracy_score\n",
        "from sklearn.metrics import confusion_matrix\n",
        "from sklearn.metrics import classification_report\n",
        "\n",
        "# 데이터 불러오기\n",
        "raw_iris = datasets.load_iris()\n",
        "\n",
        "# 피처/타깃 분리\n",
        "X = raw_iris.data\n",
        "y = raw_iris.target\n",
        "\n",
        "# 훈련/테스트 데이터 분할\n",
        "X_tn, X_te, y_tn, y_te = train_test_split(X, y, random_state=7)\n",
        "\n",
        "\n",
        "# 표준화 스케일\n",
        "std_scale = StandardScaler()\n",
        "std_scale.fit(X_tn)\n",
        "X_tn_std = std_scale.transform(X_tn)\n",
        "X_te_std = std_scale.transform(X_te)\n",
        "\n",
        "\n",
        "best_accuracy = 0\n",
        "\n",
        "for k in [1,2,3,4,5,6,7,8,9,10]:\n",
        "  knn = KNeighborsClassifier(n_neighbors=k)\n",
        "  knn.fit(X_tn, y_tn)\n",
        "  pred_knn = knn.predict(X_te_std)\n",
        "  accuracy = accuracy_score(y_te, pred_knn)\n",
        "  if accuracy > best_accuracy:\n",
        "    best_accuracy = accuracy\n",
        "    final_k = {'k' : k}\n",
        "\n",
        "print(final_k)\n",
        "print(accuracy)"
      ],
      "metadata": {
        "colab": {
          "base_uri": "https://localhost:8080/"
        },
        "id": "EOMRfCPuUv3G",
        "outputId": "a09bfa25-d7a4-4657-e4e7-8d98e8b17661"
      },
      "execution_count": 10,
      "outputs": [
        {
          "output_type": "stream",
          "name": "stdout",
          "text": [
            "{'k': 1}\n",
            "0.2894736842105263\n"
          ]
        }
      ]
    }
  ]
}