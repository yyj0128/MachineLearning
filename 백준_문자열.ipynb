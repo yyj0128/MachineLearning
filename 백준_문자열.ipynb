{
  "nbformat": 4,
  "nbformat_minor": 0,
  "metadata": {
    "colab": {
      "name": "백준_문자열.ipynb",
      "provenance": [],
      "collapsed_sections": [],
      "authorship_tag": "ABX9TyO5MukMZaLbG1yKvH7hXpqv",
      "include_colab_link": true
    },
    "kernelspec": {
      "name": "python3",
      "display_name": "Python 3"
    },
    "language_info": {
      "name": "python"
    }
  },
  "cells": [
    {
      "cell_type": "markdown",
      "metadata": {
        "id": "view-in-github",
        "colab_type": "text"
      },
      "source": [
        "<a href=\"https://colab.research.google.com/github/yyj0128/MachineLearning/blob/main/%EB%B0%B1%EC%A4%80_%EB%AC%B8%EC%9E%90%EC%97%B4.ipynb\" target=\"_parent\"><img src=\"https://colab.research.google.com/assets/colab-badge.svg\" alt=\"Open In Colab\"/></a>"
      ]
    },
    {
      "cell_type": "markdown",
      "source": [
        "## **[문자열]**\n",
        "\n",
        "#### 21.12.19\n",
        "### [문제11654. 아스키 코드](https://www.acmicpc.net/problem/11654)\n",
        "\n",
        "<br>\n",
        "\n",
        "\n",
        "문제) 알파벳 소문자, 대문자, 숫자 0-9중 하나가 주어졌을 때, 주어진 글자의 아스키 코드값을 출력하는 프로그램을 작성하시오.\n",
        "\n",
        "<br>\n",
        "\n",
        "입력) 알파벳 소문자, 대문자, 숫자 0-9 중 하나가 첫째 줄에 주어진다.\n",
        "\n",
        "<br>\n",
        "\n",
        "출력) 입력으로 주어진 글자의 아스키 코드 값을 출력한다.\n"
      ],
      "metadata": {
        "id": "yH4WJMxpKsSi"
      }
    },
    {
      "cell_type": "code",
      "source": [
        "a = input()\n",
        "\n",
        "print(ord(a))  "
      ],
      "metadata": {
        "colab": {
          "base_uri": "https://localhost:8080/"
        },
        "id": "Nc1nQ-ExMGev",
        "outputId": "c2d777eb-33be-4eb4-bbfc-e40e962c37d3"
      },
      "execution_count": 13,
      "outputs": [
        {
          "output_type": "stream",
          "name": "stdout",
          "text": [
            "A\n",
            "65\n"
          ]
        }
      ]
    },
    {
      "cell_type": "markdown",
      "source": [
        "* ord(문자) : 문자의 아스키 코드값을 리턴하는 함수\n",
        "* chr(아스키코드) : 아스키 코드값을 그 코드에 해당하는 문자로 출력하는 함수"
      ],
      "metadata": {
        "id": "2hpsNLcvPQYM"
      }
    },
    {
      "cell_type": "code",
      "source": [
        ""
      ],
      "metadata": {
        "id": "w6lXuJhdPvBP"
      },
      "execution_count": null,
      "outputs": []
    },
    {
      "cell_type": "code",
      "source": [
        ""
      ],
      "metadata": {
        "id": "xADBTM3v-nph"
      },
      "execution_count": null,
      "outputs": []
    },
    {
      "cell_type": "markdown",
      "source": [
        "#### 21.12.29\n",
        "### [문제11720. 숫자의 합](https://www.acmicpc.net/problem/11720)\n",
        "\n",
        "문제) N개의 숫자가 공백 없이 쓰여있다. 이 숫자를 모두 합해서 출력하는 프로그램을 작성하시오.\n",
        "\n",
        "</br>\n",
        "\n",
        "입력) 첫째 줄에 숫자의 개수 N (1 ≤ N ≤ 100)이 주어진다. 둘째 줄에 숫자 N개가 공백없이 주어진다.\n",
        "\n",
        "\n",
        "출력) 입력으로 주어진 숫자 N개의 합을 출력한다."
      ],
      "metadata": {
        "id": "P_zd05-cgl2l"
      }
    },
    {
      "cell_type": "code",
      "source": [
        "N = int(input())\n",
        "num = input()\n",
        "\n",
        "sum=0\n",
        "for i in range(N):\n",
        "  sum += int(num[i])\n",
        "\n",
        "print(sum)"
      ],
      "metadata": {
        "colab": {
          "base_uri": "https://localhost:8080/"
        },
        "id": "j9V-oiLkgNcy",
        "outputId": "a5ba4a13-2bd9-4daf-cbb0-25d9af7ef04a"
      },
      "execution_count": 3,
      "outputs": [
        {
          "output_type": "stream",
          "name": "stdout",
          "text": [
            "5\n",
            "54321\n",
            "15\n"
          ]
        }
      ]
    },
    {
      "cell_type": "code",
      "source": [
        ""
      ],
      "metadata": {
        "id": "DAsIBlrngNUP"
      },
      "execution_count": null,
      "outputs": []
    },
    {
      "cell_type": "markdown",
      "source": [
        "#### 21.12.29\n",
        "### [문제 10809. 알파벳 찾기](https://www.acmicpc.net/problem/10809)\n",
        "\n",
        "\n",
        "문제) 알파벳 소문자로만 이루어진 단어 S가 주어진다. 각각의 알파벳에 대해서, 단어에 포함되어 있는 경우에는 처음 등장하는 위치를, 포함되어 있지 않은 경우에는 -1을 출력하는 프로그램을 작성하시오.\n",
        "\n",
        "</br>\n",
        "\n",
        "입력) 첫째 줄에 단어 S가 주어진다. 단어의 길이는 100을 넘지 않으며, 알파벳 소문자로만 이루어져 있다.\n",
        "\n",
        "출력) 각각의 알파벳에 대해서, a가 처음 등장하는 위치, b가 처음 등장하는 위치, ... z가 처음 등장하는 위치를 공백으로 구분해서 출력한다.\n",
        "만약, 어떤 알파벳이 단어에 포함되어 있지 않다면 -1을 출력한다. 단어의 첫 번째 글자는 0번째 위치이고, 두 번째 글자는 1번째 위치이다."
      ],
      "metadata": {
        "id": "KZb7LnJljGK9"
      }
    },
    {
      "cell_type": "markdown",
      "source": [
        "> 내가 푼 방법\n",
        "\n"
      ],
      "metadata": {
        "id": "_ideatv8oGOk"
      }
    },
    {
      "cell_type": "code",
      "source": [
        "import string   # 알파벳을 출력하기 위한 모듈\n",
        "\n",
        "S = input()\n",
        "\n",
        "for i in string.ascii_lowercase:    # string.ascii_lowercase : 알파벳 소문자(a~z) 문자열\n",
        "  if i in S:\n",
        "    print(S.index(i), end=' ')\n",
        "  else:\n",
        "    print(-1, end=' ')\n",
        "\n"
      ],
      "metadata": {
        "colab": {
          "base_uri": "https://localhost:8080/"
        },
        "id": "Fc6KV8T6gNL9",
        "outputId": "de5c095b-2053-4481-a7c1-87dae3f84afb"
      },
      "execution_count": 18,
      "outputs": [
        {
          "output_type": "stream",
          "name": "stdout",
          "text": [
            "baekjoon\n",
            "1 0 -1 -1 2 -1 -1 -1 -1 4 3 -1 -1 7 5 -1 -1 -1 -1 -1 -1 -1 -1 -1 -1 -1 "
          ]
        }
      ]
    },
    {
      "cell_type": "markdown",
      "source": [
        "위의 방법처럼 풀었으나 찾아보니 find함수를 이용하면 더 간단하게 풀수 있었다!"
      ],
      "metadata": {
        "id": "SprC-oJKcaju"
      }
    },
    {
      "cell_type": "markdown",
      "source": [
        "> 다른 방법"
      ],
      "metadata": {
        "id": "SrQ4fJqVoszx"
      }
    },
    {
      "cell_type": "markdown",
      "source": [
        "\n",
        "* find 함수 \n",
        "\n",
        " - 문자열.find(찾을문자) → 문자열에서 찾을 문자의 index를 반환 (a가 존재하지 않으면 -1 반환)\n",
        "\n",
        " - 문자열.find(찾을문자, 시작 Index, 끝 Index) → 어디서부터 어디까지 찾을지 시작 Index, 끝 Index  지정 가능\n",
        "\n"
      ],
      "metadata": {
        "id": "2EM9m3q_pMrl"
      }
    },
    {
      "cell_type": "code",
      "source": [
        "import string   \n",
        "\n",
        "S = input()\n",
        "\n",
        "for i in string.ascii_lowercase:    \n",
        "  print(S.find(i), end=' ')   "
      ],
      "metadata": {
        "colab": {
          "base_uri": "https://localhost:8080/"
        },
        "id": "o5bS3Rx0gNIy",
        "outputId": "6a77cf9c-706f-463d-d9dc-68cb43897d63"
      },
      "execution_count": 19,
      "outputs": [
        {
          "output_type": "stream",
          "name": "stdout",
          "text": [
            "baekjoon\n",
            "1 0 -1 -1 2 -1 -1 -1 -1 4 3 -1 -1 7 5 -1 -1 -1 -1 -1 -1 -1 -1 -1 -1 -1 "
          ]
        }
      ]
    },
    {
      "cell_type": "code",
      "source": [
        ""
      ],
      "metadata": {
        "id": "S2FQabH8gM8q"
      },
      "execution_count": null,
      "outputs": []
    },
    {
      "cell_type": "markdown",
      "source": [
        "#### 21.12.30\n",
        "\n",
        "###[문제2675. 문자열 반복](https://www.acmicpc.net/problem/2675)\n",
        "\n",
        "문제) 문자열 S를 입력받은 후에, 각 문자를 R번 반복해 새 문자열 P를 만든 후 출력하는 프로그램을 작성하시오. 즉, 첫 번째 문자를 R번 반복하고, 두 번째 문자를 R번 반복하는 식으로 P를 만들면 된다. S에는 QR Code \"alphanumeric\" 문자만 들어있다.\n",
        "\n",
        "QR Code \"alphanumeric\" 문자는 0123456789ABCDEFGHIJKLMNOPQRSTUVWXYZ\\$%*+-./: 이다.\n",
        "\n",
        "\n",
        "</br>\n",
        "\n",
        "입력) 첫째 줄에 테스트 케이스의 개수 T(1 ≤ T ≤ 1,000)가 주어진다. 각 테스트 케이스는 반복 횟수 R(1 ≤ R ≤ 8), 문자열 S가 공백으로 구분되어 주어진다. S의 길이는 적어도 1이며, 20글자를 넘지 않는다. \n",
        "\n",
        "\n",
        "출력) 각 테스트 케이스에 대해 P를 출력한다."
      ],
      "metadata": {
        "id": "2nmKWo1kKZm1"
      }
    },
    {
      "cell_type": "code",
      "source": [
        "T = int(input())   # 테스트케이스의 개수\n",
        "\n",
        "for _ in range(T):\n",
        "  R, S = input().split()    # 반복횟수, 문자열 입력\n",
        "  for i in range(len(S)):   \n",
        "    print(S[i] * int(R), end='')  # end='' -> 줄바꿈과 공백 없이 붙여서 출력 \n",
        "  print()     # 문자열 끝까지 돌면 줄바꿈"
      ],
      "metadata": {
        "colab": {
          "base_uri": "https://localhost:8080/"
        },
        "id": "h2oWcDuogMy8",
        "outputId": "30d1fc91-266f-409e-9420-50d1917a9db0"
      },
      "execution_count": 21,
      "outputs": [
        {
          "output_type": "stream",
          "name": "stdout",
          "text": [
            "2\n",
            "3 ABC\n",
            "AAABBBCCC\n",
            "5 /HTP\n",
            "/////HHHHHTTTTTPPPPP\n"
          ]
        }
      ]
    },
    {
      "cell_type": "code",
      "source": [
        ""
      ],
      "metadata": {
        "id": "waYjDrQtgMWY"
      },
      "execution_count": null,
      "outputs": []
    },
    {
      "cell_type": "markdown",
      "source": [
        "#### 21.12.30\n",
        "\n",
        "###[문제1157.단어 공부](https://www.acmicpc.net/problem/1157)\n",
        "\n",
        "문제) 알파벳 대소문자로 된 단어가 주어지면, 이 단어에서 가장 많이 사용된 알파벳이 무엇인지 알아내는 프로그램을 작성하시오. 단, 대문자와 소문자를 구분하지 않는다.\n",
        "\n",
        "</br>\n",
        "\n",
        "입력) 첫째 줄에 알파벳 대소문자로 이루어진 단어가 주어진다. 주어지는 단어의 길이는 1,000,000을 넘지 않는다.\n",
        "\n",
        "출력) 첫째 줄에 이 단어에서 가장 많이 사용된 알파벳을 대문자로 출력한다. 단, 가장 많이 사용된 알파벳이 여러 개 존재하는 경우에는 ?를 출력한다.\n",
        "\n",
        "\n",
        "\n"
      ],
      "metadata": {
        "id": "HMByrPBPSXgd"
      }
    },
    {
      "cell_type": "markdown",
      "source": [
        "> 내가 푼 방법 (시간초과)"
      ],
      "metadata": {
        "id": "XAVHaNsGcqg3"
      }
    },
    {
      "cell_type": "code",
      "source": [
        "word = input().upper()    # 입력 문자열 모두 대문자로 변환 \n",
        "\n",
        "cnt = [word.count(i) for i in word]      # 문자열의 각 알파벳의 갯수를 cnt 리스트에 담음\n",
        "\n",
        "if cnt.count(max(cnt)) > max(cnt):       # 가장 많이 사용된 알파벳이 여러개일 때\n",
        "  print('?')   \n",
        "else:                                    # 가장 많이 사용된 알파벳이 한개일 때\n",
        "  print(word[cnt.index((max(cnt)))])     # 해당 알파벳(대문자) 출력\n"
      ],
      "metadata": {
        "colab": {
          "base_uri": "https://localhost:8080/"
        },
        "id": "Y_SqAiLvUUr8",
        "outputId": "ce10b6bd-ce18-4520-ad9c-e52a37f9c7fc"
      },
      "execution_count": 64,
      "outputs": [
        {
          "output_type": "stream",
          "name": "stdout",
          "text": [
            "mississipi\n",
            "?\n"
          ]
        }
      ]
    },
    {
      "cell_type": "markdown",
      "source": [
        "* 리스트.count(특정 값) : 리스트에서 특정 값의 갯수 반환\n",
        "* 리스트.index(특정 값) : 리스트에서 특정 값의 위치 반환"
      ],
      "metadata": {
        "id": "0fXIci6dbvM2"
      }
    },
    {
      "cell_type": "markdown",
      "source": [
        "> 다른 방법"
      ],
      "metadata": {
        "id": "5Ha9JI4rc6kz"
      }
    },
    {
      "cell_type": "markdown",
      "source": [
        "위의 방법은 시간초과가 나서 set() 함수로 알파벳의 중복을 먼저 제거하는 과정을 추가하였다"
      ],
      "metadata": {
        "id": "N16EeAqlcuyM"
      }
    },
    {
      "cell_type": "code",
      "source": [
        "word = input().upper()    # 입력 문자열 모두 대문자로 변환\n",
        "S = list(set(word))       # 문자열 알파벳 중복제거 \n",
        "print(S)\n",
        "cnt = [word.count(i) for i in S]       # 문자열의 각 알파벳의 갯수를 cnt 리스트에 담음\n",
        "\n",
        "if cnt.count(max(cnt)) > 1:  # 가장 많이 사용된 알파벳이 여러개일 때\n",
        "  print('?')   \n",
        "else:                               # 가장 많이 사용된 알파벳이 한개일 때\n",
        "  print(S[cnt.index((max(cnt)))])   # 해당 알파벳(대문자) 출력\n"
      ],
      "metadata": {
        "colab": {
          "base_uri": "https://localhost:8080/"
        },
        "id": "dXcRFuc3cuRx",
        "outputId": "99d70def-2705-4e14-b6b3-1127a1b1d618"
      },
      "execution_count": 65,
      "outputs": [
        {
          "output_type": "stream",
          "name": "stdout",
          "text": [
            "zZa\n",
            "['Z', 'A']\n",
            "Z\n"
          ]
        }
      ]
    },
    {
      "cell_type": "code",
      "source": [
        ""
      ],
      "metadata": {
        "id": "yhFEC6jBfN4M"
      },
      "execution_count": null,
      "outputs": []
    },
    {
      "cell_type": "markdown",
      "source": [
        "#### 22.01.02\n",
        "\n",
        "###[문제1152.단어의 개수](https://www.acmicpc.net/problem/1152)\n",
        "\n",
        "문제) 영어 대소문자와 공백으로 이루어진 문자열이 주어진다. 이 문자열에는 몇 개의 단어가 있을까? 이를 구하는 프로그램을 작성하시오. 단, 한 단어가 여러 번 등장하면 등장한 횟수만큼 모두 세어야 한다.\n",
        "\n",
        "\n",
        "</br>\n",
        "\n",
        "입력) 첫 줄에 영어 대소문자와 공백으로 이루어진 문자열이 주어진다. 이 문자열의 길이는 1,000,000을 넘지 않는다. 단어는 공백 한 개로 구분되며, 공백이 연속해서 나오는 경우는 없다. 또한 문자열은 공백으로 시작하거나 끝날 수 있다.\n",
        "\n",
        "출력) 첫째 줄에 단어의 개수를 출력한다."
      ],
      "metadata": {
        "id": "1Ja4L0X4n04T"
      }
    },
    {
      "cell_type": "code",
      "source": [
        ""
      ],
      "metadata": {
        "id": "l9B0C-1BfMuQ"
      },
      "execution_count": null,
      "outputs": []
    }
  ]
}